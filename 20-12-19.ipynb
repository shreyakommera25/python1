{
 "cells": [
  {
   "cell_type": "code",
   "execution_count": null,
   "metadata": {},
   "outputs": [],
   "source": [
    "# nth prime number\n",
    "#include <stdio.h>\n",
    "void main()\n",
    "{\n",
    "    int n,i,c=0;\n",
    "    scanf(\"%d\",&n);\n",
    "    for(i=1;i<=n;i++)\n",
    "    {\n",
    "        if(n%i==0)\n",
    "        c++;\n",
    "    }\n",
    "    if(c==2)\n",
    "    printf(\"prime number\");\n",
    "    else\n",
    "    printf(\"not\");\n",
    "}"
   ]
  },
  {
   "cell_type": "code",
   "execution_count": null,
   "metadata": {},
   "outputs": [],
   "source": [
    "#prime range\n",
    "#include <stdio.h>\n",
    "void main()\n",
    "{\n",
    "    int n,i,c=0,range;\n",
    "    scanf(\"%d\",&range);\n",
    "    for(n=2;n<=range;n++)\n",
    "    {\n",
    "      c=0;\n",
    "    for(i=2;i<=n/2;i++)\n",
    "    {\n",
    "        if(n%i==0)\n",
    "        c++;\n",
    "    }\n",
    "    if(c==0)\n",
    "    printf(\"\\t%d\",n);\n",
    "    }\n",
    "}\n"
   ]
  },
  {
   "cell_type": "code",
   "execution_count": null,
   "metadata": {},
   "outputs": [],
   "source": [
    "#sum of the prime number 101 to 500\n",
    "#include <stdio.h>\n",
    "void main()\n",
    "{\n",
    "    int n,i,c,range,s=0;\n",
    "    scanf(\"%d\",&range);\n",
    "    for(n=501;n<=1000;n++)\n",
    "    {\n",
    "      c=0;\n",
    "    for(i=2;i<=n/2;i++)\n",
    "    {\n",
    "        if(n%i==0)\n",
    "        c++;\n",
    "    }\n",
    "    if(c==0)\n",
    "    {\n",
    "        s=s+n;\n",
    "         printf(\"%d \",n);\n",
    "    }}\n",
    "    printf(\"%d\",s);\n",
    "    }"
   ]
  },
  {
   "cell_type": "code",
   "execution_count": null,
   "metadata": {},
   "outputs": [],
   "source": [
    "#include <stdio.h>\n",
    "void main()\n",
    "{\n",
    "    int n,i,c,range,s=0,count=0,k;\n",
    "    scanf(\"%d\",&k);\n",
    "    for(n=2;count<k;n++)\n",
    "    {\n",
    "      c=0;\n",
    "    for(i=2;i<=n/2;i++)\n",
    "    {\n",
    "        if(n%i==0)\n",
    "        c++;\n",
    "    }\n",
    "    if(c==0)\n",
    "    {\n",
    "       count++;\n",
    "    }\n",
    "    }\n",
    "    printf(\"%d=%d\",count,n-1);\n",
    "    }"
   ]
  },
  {
   "cell_type": "code",
   "execution_count": null,
   "metadata": {},
   "outputs": [],
   "source": [
    "# nth fibanocii\n",
    "#include<stdio.h>\n",
    "void main()\n",
    "{\n",
    " int c,n,f1=0,f2=1,f3,i;\n",
    " scanf(\"%d\",&n);\n",
    " if(n==1)\n",
    " c=printf(\"%d%d\",f1,f2);\n",
    " else\n",
    " {\n",
    "     for(i=3;i<=n;i++)\n",
    "     {\n",
    "         f3=f1+f2;\n",
    "         f1=f2;\n",
    "         f2=f3;\n",
    "     }\n",
    "     c=printf(\"%d\",f2);\n",
    " }\n",
    " printf(\"\\n%d\",c);\n",
    "}"
   ]
  },
  {
   "cell_type": "code",
   "execution_count": null,
   "metadata": {},
   "outputs": [],
   "source": [
    "#include<stdio.h>\n",
    "void main()\n",
    "{\n",
    " int i,j;\n",
    " for(i=1;i<=5;i++)\n",
    " {\n",
    "     for(j=1;j<=i;j++)\n",
    "         {\n",
    "             printf(\"%c\",j+64);\n",
    "         }\n",
    "     printf(\"\\n\");\n",
    " }\n",
    "}"
   ]
  },
  {
   "cell_type": "code",
   "execution_count": null,
   "metadata": {},
   "outputs": [],
   "source": [
    "#include<stdio.h>\n",
    "void main()\n",
    "{\n",
    " int i,j;\n",
    " for(i=1;i<=5;i++)\n",
    " {\n",
    "     for(j=1;j<=i;j++)\n",
    "         {\n",
    "             printf(\"%d\",j%2);\n",
    "         }\n",
    "     printf(\"\\n\");\n",
    " }\n",
    "}"
   ]
  },
  {
   "cell_type": "code",
   "execution_count": null,
   "metadata": {},
   "outputs": [],
   "source": [
    "#include<stdio.h>\n",
    "void main()\n",
    "{\n",
    " int i,j,k=1;\n",
    " for(i=1;i<=5;i++)\n",
    " {\n",
    "     for(j=1;j<=i;j++)\n",
    "         {\n",
    "             printf(\" %d\",k++);\n",
    "         }\n",
    "     printf(\"\\n\");\n",
    " }\n",
    "}"
   ]
  },
  {
   "cell_type": "code",
   "execution_count": null,
   "metadata": {},
   "outputs": [],
   "source": [
    "#include<stdio.h>\n",
    "void main()\n",
    "{\n",
    " int i,j,k=1;\n",
    " for(i=1;i<=5;i++)\n",
    " {\n",
    "     for(j=1;j<=5;j++)\n",
    "         {\n",
    "             if(i==1||i==5||j==1||j==5)\n",
    "             printf(\" *\");\n",
    "             else\n",
    "             printf(\"  \");\n",
    "         }\n",
    "     printf(\"\\n\");\n",
    " }\n",
    "}"
   ]
  }
 ],
 "metadata": {
  "kernelspec": {
   "display_name": "Python 3",
   "language": "python",
   "name": "python3"
  },
  "language_info": {
   "codemirror_mode": {
    "name": "ipython",
    "version": 3
   },
   "file_extension": ".py",
   "mimetype": "text/x-python",
   "name": "python",
   "nbconvert_exporter": "python",
   "pygments_lexer": "ipython3",
   "version": "3.7.4"
  }
 },
 "nbformat": 4,
 "nbformat_minor": 2
}
