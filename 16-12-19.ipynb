{
 "cells": [
  {
   "cell_type": "markdown",
   "metadata": {},
   "source": [
    "# functional programming\n",
    "- simple\n",
    "- easy to understand\n",
    "- better reusability\n",
    "- lengthly proram will be divided into sub programs"
   ]
  },
  {
   "cell_type": "code",
   "execution_count": 2,
   "metadata": {
    "scrolled": true
   },
   "outputs": [],
   "source": [
    "# syntax:\n",
    "#def nameofthe function(<parameter>):\n",
    "    #statements\n",
    "    #return"
   ]
  },
  {
   "cell_type": "code",
   "execution_count": 4,
   "metadata": {},
   "outputs": [
    {
     "data": {
      "text/plain": [
       "6"
      ]
     },
     "execution_count": 4,
     "metadata": {},
     "output_type": "execute_result"
    }
   ],
   "source": [
    "#input:1234\n",
    "#output:6(2+4)\n",
    "def evendigit(n):\n",
    "    s=0\n",
    "    while n!=0:\n",
    "        r=n%10\n",
    "        if r%2==0:\n",
    "           s=s+r\n",
    "        n=n//10\n",
    "    return s\n",
    "evendigit(1234)"
   ]
  },
  {
   "cell_type": "code",
   "execution_count": 16,
   "metadata": {},
   "outputs": [
    {
     "data": {
      "text/plain": [
       "9"
      ]
     },
     "execution_count": 16,
     "metadata": {},
     "output_type": "execute_result"
    }
   ],
   "source": [
    "# print largest number from given number\n",
    "# input:19528\n",
    "# o/p:9\n",
    "def largest(n):\n",
    "    temp=0\n",
    "    while n!=0:\n",
    "        r=n%10\n",
    "        if r>temp:\n",
    "            temp=r\n",
    "        n=n//10\n",
    "    return temp\n",
    "largest(19528)\n",
    "        \n",
    "        "
   ]
  },
  {
   "cell_type": "code",
   "execution_count": 26,
   "metadata": {},
   "outputs": [
    {
     "data": {
      "text/plain": [
       "321"
      ]
     },
     "execution_count": 26,
     "metadata": {},
     "output_type": "execute_result"
    }
   ],
   "source": [
    "# reverse of given number\n",
    "#input:123\n",
    "#o/p:321\n",
    "def reverse(n):\n",
    "    rev=0\n",
    "    while n!=0:\n",
    "        r=n%10\n",
    "        rev=rev*10+r\n",
    "        n=n//10\n",
    "    return rev\n",
    "reverse(123)\n",
    "     "
   ]
  },
  {
   "cell_type": "markdown",
   "metadata": {},
   "source": [
    "### for loop\n",
    "#### syntax\n",
    "for in range(start,stop,step):\n",
    "> statements"
   ]
  },
  {
   "cell_type": "code",
   "execution_count": 29,
   "metadata": {},
   "outputs": [
    {
     "name": "stdout",
     "output_type": "stream",
     "text": [
      "11 12 13 14 15 16 17 18 19 20 21 22 23 24 25 "
     ]
    }
   ],
   "source": [
    "# print the numbers between two limits\n",
    "#input:11 25\n",
    "#output:11 12 13 ....25\n",
    "def printseries(lb,ul):\n",
    "    for i in range(lb,ul+1):\n",
    "     print(i,end=' ')\n",
    "    return \n",
    "printseries(11,25)"
   ]
  },
  {
   "cell_type": "code",
   "execution_count": null,
   "metadata": {},
   "outputs": [],
   "source": []
  }
 ],
 "metadata": {
  "kernelspec": {
   "display_name": "Python 3",
   "language": "python",
   "name": "python3"
  },
  "language_info": {
   "codemirror_mode": {
    "name": "ipython",
    "version": 3
   },
   "file_extension": ".py",
   "mimetype": "text/x-python",
   "name": "python",
   "nbconvert_exporter": "python",
   "pygments_lexer": "ipython3",
   "version": "3.7.4"
  }
 },
 "nbformat": 4,
 "nbformat_minor": 2
}
