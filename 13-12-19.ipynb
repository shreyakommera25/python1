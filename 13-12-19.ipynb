{
 "cells": [
  {
   "cell_type": "markdown",
   "metadata": {},
   "source": [
    "# markdown\n",
    "## markdown\n",
    "### markdown"
   ]
  },
  {
   "cell_type": "markdown",
   "metadata": {},
   "source": [
    "# insert site address\n",
    "[site](http://ct3.gitam.edu/)\n"
   ]
  },
  {
   "cell_type": "markdown",
   "metadata": {},
   "source": [
    "# insert image address\n",
    "![text](data:image/jpeg;base64,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)"
   ]
  },
  {
   "cell_type": "markdown",
   "metadata": {},
   "source": [
    "# Python Basics\n",
    "python is a beginners language\n",
    "\n",
    "\n",
    "python is easy to learn"
   ]
  },
  {
   "cell_type": "markdown",
   "metadata": {},
   "source": [
    "# creating ordered list\n",
    "\n",
    "1. abc\n",
    "2. hsdf\n",
    "  1. a\n",
    "  2. b\n"
   ]
  },
  {
   "cell_type": "markdown",
   "metadata": {},
   "source": [
    "## Bold and italic\n",
    "**gitam**\n",
    "\n",
    "*gitam*"
   ]
  },
  {
   "cell_type": "code",
   "execution_count": 3,
   "metadata": {},
   "outputs": [
    {
     "name": "stdout",
     "output_type": "stream",
     "text": [
      "hello world !\n"
     ]
    }
   ],
   "source": [
    "# basic hello program\n",
    "print(\"hello world !\")"
   ]
  },
  {
   "cell_type": "code",
   "execution_count": 4,
   "metadata": {},
   "outputs": [
    {
     "data": {
      "text/plain": [
       "50"
      ]
     },
     "execution_count": 4,
     "metadata": {},
     "output_type": "execute_result"
    }
   ],
   "source": [
    "#variable creation\n",
    "x=25\n",
    "y=25\n",
    "x+y"
   ]
  },
  {
   "cell_type": "markdown",
   "metadata": {},
   "source": [
    "# Rules for variable\n",
    "-name should begin with a character\n",
    "\n",
    "-no special characters allowed except _"
   ]
  },
  {
   "cell_type": "code",
   "execution_count": 6,
   "metadata": {},
   "outputs": [
    {
     "name": "stdout",
     "output_type": "stream",
     "text": [
      "my name is shreya age is: 19\n"
     ]
    }
   ],
   "source": [
    "name=\"shreya\"\n",
    "age=19\n",
    "print(\"my name is\",name,\"age is:\",age)"
   ]
  },
  {
   "cell_type": "code",
   "execution_count": 8,
   "metadata": {},
   "outputs": [
    {
     "name": "stdout",
     "output_type": "stream",
     "text": [
      "enter nameshreya\n",
      "enter age19\n",
      "my name is: shreya age is: 19\n"
     ]
    }
   ],
   "source": [
    "name=input(\"enter name\")\n",
    "\n",
    "age=int(input(\"enter age\"))\n",
    "print(\"my name is:\",name,\"age is:\",age)\n"
   ]
  },
  {
   "cell_type": "code",
   "execution_count": 12,
   "metadata": {},
   "outputs": [
    {
     "name": "stdout",
     "output_type": "stream",
     "text": [
      "enter a number20\n",
      "enter a number10\n",
      "add 30\n",
      "sub 10\n",
      "div 2.0\n",
      "mul 200\n",
      "mod 0\n"
     ]
    }
   ],
   "source": [
    "x=int(input(\"enter a number\"))\n",
    "y=int(input(\"enter a number\"))\n",
    "print(\"add\",x+y)\n",
    "print(\"sub\",x-y)\n",
    "print(\"div\",x/y)\n",
    "print(\"mul\",x*y)\n",
    "print(\"mod\",x%y)"
   ]
  },
  {
   "cell_type": "markdown",
   "metadata": {},
   "source": [
    "# funamental data types:\n",
    "-int\n",
    "\n",
    "-float\n",
    "\n",
    "-complex\n",
    "\n",
    "-boolean\n",
    "\n",
    "-string"
   ]
  },
  {
   "cell_type": "code",
   "execution_count": 17,
   "metadata": {},
   "outputs": [
    {
     "name": "stdout",
     "output_type": "stream",
     "text": [
      "<class 'int'>\n",
      "<class 'float'>\n",
      "<class 'complex'>\n"
     ]
    }
   ],
   "source": [
    "x=10\n",
    "y=12.32\n",
    "z=5+6j\n",
    "print(type(x))\n",
    "print(type(y))\n",
    "print(type(z))\n"
   ]
  },
  {
   "cell_type": "code",
   "execution_count": 14,
   "metadata": {},
   "outputs": [
    {
     "name": "stdout",
     "output_type": "stream",
     "text": [
      "(3+5j)\n"
     ]
    }
   ],
   "source": [
    "c=complex(3,5)\n",
    "print(c)"
   ]
  },
  {
   "cell_type": "code",
   "execution_count": 23,
   "metadata": {},
   "outputs": [
    {
     "name": "stdout",
     "output_type": "stream",
     "text": [
      "(9+11j)\n",
      "(1+1j)\n",
      "(-10+49j)\n"
     ]
    }
   ],
   "source": [
    "c1=5+6j\n",
    "c2=4+5j\n",
    "print(c1+c2)\n",
    "print(c1-c2)\n",
    "print(c1*c2)\n"
   ]
  },
  {
   "cell_type": "code",
   "execution_count": 27,
   "metadata": {},
   "outputs": [
    {
     "data": {
      "text/plain": [
       "False"
      ]
     },
     "execution_count": 27,
     "metadata": {},
     "output_type": "execute_result"
    }
   ],
   "source": [
    "a=True\n",
    "b=False\n",
    "a<b\n"
   ]
  },
  {
   "cell_type": "code",
   "execution_count": 28,
   "metadata": {},
   "outputs": [
    {
     "data": {
      "text/plain": [
       "True"
      ]
     },
     "execution_count": 28,
     "metadata": {},
     "output_type": "execute_result"
    }
   ],
   "source": [
    "x=6\n",
    "y=7\n",
    "x<y"
   ]
  },
  {
   "cell_type": "code",
   "execution_count": 31,
   "metadata": {},
   "outputs": [
    {
     "name": "stdout",
     "output_type": "stream",
     "text": [
      "<class 'str'> <class 'str'>\n"
     ]
    }
   ],
   "source": [
    "# string\n",
    "s1=\"abc\"\n",
    "s2=\"dfg\"\n",
    "print(type(s1),type(s2))\n",
    "\n"
   ]
  },
  {
   "cell_type": "code",
   "execution_count": 32,
   "metadata": {},
   "outputs": [
    {
     "name": "stdout",
     "output_type": "stream",
     "text": [
      "<class 'int'>\n",
      "<class 'str'>\n",
      "<class 'float'>\n"
     ]
    }
   ],
   "source": [
    "i=100\n",
    "print(type(i))\n",
    "s1=str(i)\n",
    "print(type(s1))\n",
    "f1=float(i)\n",
    "print(type(f1))"
   ]
  },
  {
   "cell_type": "code",
   "execution_count": 35,
   "metadata": {},
   "outputs": [
    {
     "name": "stdout",
     "output_type": "stream",
     "text": [
      "4\n"
     ]
    }
   ],
   "source": [
    "# length \n",
    "a=1234\n",
    "print(len(str(a)))\n",
    "      "
   ]
  },
  {
   "cell_type": "code",
   "execution_count": 36,
   "metadata": {},
   "outputs": [
    {
     "name": "stdout",
     "output_type": "stream",
     "text": [
      "100\n",
      "20 20 20\n",
      "10 20 30\n"
     ]
    }
   ],
   "source": [
    "n1=100\n",
    "a =b =c =20\n",
    "a1,b1,c1=10,20,30\n",
    "print(n1)\n",
    "print(a,b,c)\n",
    "print(a1,b1,c1)"
   ]
  },
  {
   "cell_type": "markdown",
   "metadata": {},
   "source": [
    "# precedence of the arth operators\n",
    "-parenthesis\n",
    "\n",
    "-power\n",
    "\n",
    "-multiplication\n",
    "\n",
    "-addition"
   ]
  },
  {
   "cell_type": "code",
   "execution_count": 39,
   "metadata": {},
   "outputs": [
    {
     "name": "stdout",
     "output_type": "stream",
     "text": [
      "8.0\n"
     ]
    }
   ],
   "source": [
    "x=1+2** 3/4+5\n",
    "print(x)"
   ]
  },
  {
   "cell_type": "code",
   "execution_count": 40,
   "metadata": {},
   "outputs": [
    {
     "name": "stdout",
     "output_type": "stream",
     "text": [
      "11.0\n"
     ]
    }
   ],
   "source": [
    "x=1+2**3/4*5\n",
    "print(x)"
   ]
  },
  {
   "cell_type": "markdown",
   "metadata": {},
   "source": [
    "# operators\n",
    "## arithematic operators\n",
    "- +\n",
    "- -\n",
    "- *\n",
    "- /\n",
    "- %\n",
    "- **\n",
    "- //\n"
   ]
  },
  {
   "cell_type": "code",
   "execution_count": 42,
   "metadata": {},
   "outputs": [
    {
     "name": "stdout",
     "output_type": "stream",
     "text": [
      "add 25\n",
      "sub -5\n",
      "mul 150\n",
      "div 0.6666666666666666\n",
      "mod 10\n",
      "power 1000000000000000\n",
      "quoe 0\n"
     ]
    }
   ],
   "source": [
    "x=10\n",
    "y=15\n",
    "print(\"add\",x+y)\n",
    "print(\"sub\",x-y)\n",
    "print(\"mul\",x*y)\n",
    "print(\"div\",x/y)\n",
    "print(\"mod\",x%y)\n",
    "print(\"power\",x**y)\n",
    "print(\"quoe\",x//y)"
   ]
  },
  {
   "cell_type": "markdown",
   "metadata": {},
   "source": [
    "# relational operators\n",
    "==,!=,<,>,<=, >="
   ]
  },
  {
   "cell_type": "code",
   "execution_count": 43,
   "metadata": {},
   "outputs": [
    {
     "name": "stdout",
     "output_type": "stream",
     "text": [
      "False\n"
     ]
    }
   ],
   "source": [
    "x=5\n",
    "a=x>10\n",
    "print(a)"
   ]
  },
  {
   "cell_type": "markdown",
   "metadata": {},
   "source": [
    "# Logical operator\n",
    "- and\n",
    "- or\n",
    "- not\n"
   ]
  },
  {
   "cell_type": "code",
   "execution_count": 46,
   "metadata": {},
   "outputs": [
    {
     "name": "stdout",
     "output_type": "stream",
     "text": [
      "True\n",
      "False\n",
      "False\n"
     ]
    }
   ],
   "source": [
    "a=100\n",
    "a1=(i>15)and(i>76)\n",
    "a2=(i>567)or(i>3456)\n",
    "print(a1)\n",
    "print(a2)\n",
    "print(not i)\n"
   ]
  },
  {
   "cell_type": "markdown",
   "metadata": {},
   "source": [
    "# membership operator\n",
    "- in \n",
    "- not in\n"
   ]
  },
  {
   "cell_type": "code",
   "execution_count": 51,
   "metadata": {},
   "outputs": [
    {
     "name": "stdout",
     "output_type": "stream",
     "text": [
      "True\n",
      "False\n"
     ]
    }
   ],
   "source": [
    "str1=\"abc\"\n",
    "print('a' in str1)\n",
    "print('a'not in str1)"
   ]
  },
  {
   "cell_type": "markdown",
   "metadata": {},
   "source": [
    "# control flow statements\n",
    "- conditional statement\n",
    "- looping statement\n",
    "- -if-else statement\n",
    "   - syntax\n",
    "   #### if condition:\n",
    "   > statement<str>\n",
    "    #### else\n",
    "    >statements\n",
    "    \n",
    "    "
   ]
  },
  {
   "cell_type": "code",
   "execution_count": 55,
   "metadata": {},
   "outputs": [
    {
     "name": "stdout",
     "output_type": "stream",
     "text": [
      "enter a number15\n",
      "odd\n"
     ]
    }
   ],
   "source": [
    "#check given number is even or odd\n",
    "n = int(input(\"enter a number\"))\n",
    "if n%2==0:\n",
    "    print(\"even\")\n",
    "else:\n",
    "        print(\"odd\")"
   ]
  },
  {
   "cell_type": "code",
   "execution_count": 60,
   "metadata": {},
   "outputs": [
    {
     "name": "stdout",
     "output_type": "stream",
     "text": [
      "enter a number15\n",
      "yes\n"
     ]
    }
   ],
   "source": [
    "# check given number is perfectly multiple of 3&5\n",
    "n = int(input(\"enter a number\"))\n",
    "if n%3==0 and n%5==0:\n",
    "    print(\"yes\")\n",
    "else:\n",
    "    print(\"no\")"
   ]
  },
  {
   "cell_type": "code",
   "execution_count": 65,
   "metadata": {},
   "outputs": [
    {
     "name": "stdout",
     "output_type": "stream",
     "text": [
      "enter a number24\n",
      "negative\n"
     ]
    }
   ],
   "source": [
    "# check given number is positive negative or zero\n",
    "n = int(input(\"enter a number\"))\n",
    "if n<0 :\n",
    " print(\"positive number\")\n",
    "elif(n>0):\n",
    " print(\"negative\")\n",
    "else:\n",
    " print (\"0\")\n"
   ]
  },
  {
   "cell_type": "code",
   "execution_count": 62,
   "metadata": {},
   "outputs": [],
   "source": [
    "#check input is leap year or not"
   ]
  },
  {
   "cell_type": "code",
   "execution_count": 2,
   "metadata": {},
   "outputs": [
    {
     "name": "stdout",
     "output_type": "stream",
     "text": [
      "enter a number2019\n",
      "no\n"
     ]
    }
   ],
   "source": [
    "n = int(input(\"enter a number\"))\n",
    "if n%4==0 and n%100!=0 or n%400==0 :\n",
    "  print(\"yes\")\n",
    "else:\n",
    "    print(\"no\")"
   ]
  },
  {
   "cell_type": "code",
   "execution_count": null,
   "metadata": {},
   "outputs": [],
   "source": []
  },
  {
   "cell_type": "code",
   "execution_count": null,
   "metadata": {},
   "outputs": [],
   "source": []
  }
 ],
 "metadata": {
  "kernelspec": {
   "display_name": "Python 3",
   "language": "python",
   "name": "python3"
  },
  "language_info": {
   "codemirror_mode": {
    "name": "ipython",
    "version": 3
   },
   "file_extension": ".py",
   "mimetype": "text/x-python",
   "name": "python",
   "nbconvert_exporter": "python",
   "pygments_lexer": "ipython3",
   "version": "3.7.4"
  }
 },
 "nbformat": 4,
 "nbformat_minor": 2
}
