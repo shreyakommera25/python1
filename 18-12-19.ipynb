{
 "cells": [
  {
   "cell_type": "code",
   "execution_count": null,
   "metadata": {},
   "outputs": [],
   "source": [
    "# To print max value\n",
    "#include <stdio.h>\n",
    "#include<limits.h>\n",
    "void main()\n",
    "{\n",
    "  int a;\n",
    "  a=INT_MAX;\n",
    "  printf(\"%d\",a);\n",
    "}\n"
   ]
  },
  {
   "cell_type": "code",
   "execution_count": null,
   "metadata": {},
   "outputs": [],
   "source": [
    "# To print min value\n",
    "#include <stdio.h>\n",
    "#include<limits.h>\n",
    "void main()\n",
    "{\n",
    "  int a;\n",
    "  a=INT_MIN;\n",
    "  printf(\"%d\",a);\n",
    "}"
   ]
  },
  {
   "cell_type": "code",
   "execution_count": null,
   "metadata": {},
   "outputs": [],
   "source": [
    "# To print ascii values\n",
    "#include <stdio.h>\n",
    "void main()\n",
    "{\n",
    "  int i;\n",
    "  for(i=0;i<=200;i++)\n",
    "  printf(\"%c=%d\",i,i);\n",
    "}\n"
   ]
  },
  {
   "cell_type": "code",
   "execution_count": null,
   "metadata": {},
   "outputs": [],
   "source": [
    "# To print particualr ascii value\n",
    "#include <stdio.h>\n",
    "void main()\n",
    "{\n",
    "  printf(\"%d\",'+');\n",
    "}\n",
    "\n"
   ]
  },
  {
   "cell_type": "code",
   "execution_count": null,
   "metadata": {},
   "outputs": [],
   "source": [
    "#include <stdio.h>\n",
    "void main()\n",
    "{\n",
    "  printf(\"abcd\\nxyz\");\n",
    "  printf(\"abcd\\bxyz\");\n",
    "  printf(\"abcd\\fxyz\");\n",
    "  printf(\"abcd\\rxyz\");\n",
    "  printf(\"abcd\\txyz\");\n",
    "  printf(\"abcd\\vxyz\");\n",
    "  printf(\"abcd\\nxyz\");\n",
    "  printf(\"abcd\\\\xyz\");\n",
    "  printf(\"abcd\\'xyz\");\n",
    "  printf(\"abcd\\\"xyz\");\n",
    "}\n"
   ]
  },
  {
   "cell_type": "code",
   "execution_count": null,
   "metadata": {},
   "outputs": [],
   "source": [
    "#include <stdio.h>\n",
    "void main()\n",
    "{\n",
    " int i=29;\n",
    " printf(\"%o\",i);\n",
    " printf(\"\\n%x\",i);\n",
    "}\n",
    "\n",
    "#include <stdio.h>\n",
    "void main()\n",
    "{\n",
    " int i=035;\n",
    " printf(\"%d\",i);\n",
    " \n",
    "}\n",
    "\n",
    "#include <stdio.h>\n",
    "void main()\n",
    "{\n",
    " int i=0x35;\n",
    " printf(\"%d\",i);\n",
    " \n",
    "}\n",
    "\n"
   ]
  },
  {
   "cell_type": "code",
   "execution_count": null,
   "metadata": {},
   "outputs": [],
   "source": [
    "# operators\n",
    "#include <stdio.h>\n",
    "void main()\n",
    "{\n",
    " printf(\"%d\",10+20);\n",
    " printf(\"\\n%d\",10+'a'); \n",
    " printf(\"\\n%d\",'b'+'a');\n",
    "}\n",
    "\n",
    "#include <stdio.h>\n",
    "void main()\n",
    "{\n",
    " float a;\n",
    " a=fmod(20.5,3.2);\n",
    " printf(\"%f\",a);\n",
    "}\n",
    "\n",
    "#include <stdio.h>\n",
    "void main()\n",
    "{\n",
    " int b,a=5;\n",
    " printf(\"%d\",a++);\n",
    " printf(\"%d\",a);\n",
    "}\n",
    "\n",
    "#include <stdio.h>\n",
    "void main()\n",
    "{\n",
    " int c;\n",
    "c= printf(\"hello\");\n",
    " printf(\"\\n%d\",c);\n",
    "}\n",
    "\n"
   ]
  },
  {
   "cell_type": "code",
   "execution_count": null,
   "metadata": {},
   "outputs": [],
   "source": [
    "# logical operators\n",
    "#include <stdio.h>\n",
    "void main()\n",
    "{\n",
    "int a=5,b=6,c,d=0;\n",
    "c=b||a&&d;\n",
    "printf(\"%d\",c);\n",
    "}"
   ]
  },
  {
   "cell_type": "code",
   "execution_count": null,
   "metadata": {},
   "outputs": [],
   "source": [
    "#include <stdio.h>\n",
    "void main()\n",
    "{\n",
    "  int a=5,b=6,c;\n",
    "  c=a<b?a:b;\n",
    "  printf(\"%d\",c);\n",
    "}\n",
    "  "
   ]
  }
 ],
 "metadata": {
  "kernelspec": {
   "display_name": "Python 3",
   "language": "python",
   "name": "python3"
  },
  "language_info": {
   "codemirror_mode": {
    "name": "ipython",
    "version": 3
   },
   "file_extension": ".py",
   "mimetype": "text/x-python",
   "name": "python",
   "nbconvert_exporter": "python",
   "pygments_lexer": "ipython3",
   "version": "3.7.4"
  }
 },
 "nbformat": 4,
 "nbformat_minor": 2
}
